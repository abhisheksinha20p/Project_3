{
  "cells": [
    {
      "cell_type": "code",
      "execution_count": null,
      "id": "RA032kSRi9Xr",
      "metadata": {
        "colab": {
          "base_uri": "https://localhost:8080/"
        },
        "id": "RA032kSRi9Xr",
        "outputId": "3db3b2b1-c347-48e2-f93a-b9a7743c107d"
      },
      "outputs": [],
      "source": [
        "from google.colab import drive\n",
        "drive.mount('/content/drive')"
      ]
    },
    {
      "cell_type": "code",
      "execution_count": null,
      "id": "63fd9f12",
      "metadata": {
        "colab": {
          "base_uri": "https://localhost:8080/",
          "height": 381
        },
        "execution": {
          "iopub.execute_input": "2024-02-22T18:27:58.158164Z",
          "iopub.status.busy": "2024-02-22T18:27:58.157472Z",
          "iopub.status.idle": "2024-02-22T18:28:15.666258Z",
          "shell.execute_reply": "2024-02-22T18:28:15.665260Z"
        },
        "id": "63fd9f12",
        "outputId": "debec153-9081-46b6-cd96-1b8e2d7324ad",
        "papermill": {
          "duration": 17.523485,
          "end_time": "2024-02-22T18:28:15.675924",
          "exception": false,
          "start_time": "2024-02-22T18:27:58.152439",
          "status": "completed"
        },
        "tags": []
      },
      "outputs": [],
      "source": [
        "import os\n",
        "import matplotlib.pyplot as plt\n",
        "from tensorflow.keras.preprocessing.image import load_img\n",
        "\n",
        "def visualize_sample_images(dataset_dir, categories):\n",
        "    n = len(categories)\n",
        "    fig, axs = plt.subplots(1, n, figsize=(20, 5))\n",
        "    for i, category in enumerate(categories):\n",
        "        folder = os.path.join(dataset_dir, category)\n",
        "        image_file = os.listdir(folder)[0]\n",
        "        img_path = os.path.join(folder, image_file)\n",
        "        img = load_img(img_path)\n",
        "        axs[i].imshow(img)\n",
        "        axs[i].set_title(category)\n",
        "    plt.tight_layout()\n",
        "    plt.show()\n",
        "\n",
        "dataset_base_dir = '/content/drive/MyDrive/dataset/'\n",
        "train_dir = os.path.join(dataset_base_dir, 'Train')\n",
        "categories = ['freshapples', 'rottenapples', 'freshbanana', 'rottenbanana']\n",
        "visualize_sample_images(train_dir, categories)\n"
      ]
    },
    {
      "cell_type": "code",
      "execution_count": null,
      "id": "ca3e9f2b",
      "metadata": {
        "colab": {
          "base_uri": "https://localhost:8080/"
        },
        "execution": {
          "iopub.execute_input": "2024-02-22T18:28:15.700525Z",
          "iopub.status.busy": "2024-02-22T18:28:15.699915Z",
          "iopub.status.idle": "2024-02-22T18:28:29.703966Z",
          "shell.execute_reply": "2024-02-22T18:28:29.703147Z"
        },
        "id": "ca3e9f2b",
        "outputId": "b2ac181c-4c22-4b0b-870e-477730c12eec",
        "papermill": {
          "duration": 14.018977,
          "end_time": "2024-02-22T18:28:29.706277",
          "exception": false,
          "start_time": "2024-02-22T18:28:15.687300",
          "status": "completed"
        },
        "tags": []
      },
      "outputs": [],
      "source": [
        "from tensorflow.keras.preprocessing.image import ImageDataGenerator\n",
        "\n",
        "batch_size = 32\n",
        "img_height = 180\n",
        "img_width = 180\n",
        "\n",
        "train_datagen = ImageDataGenerator(\n",
        "    rescale=1./255,\n",
        "    rotation_range=40,\n",
        "    width_shift_range=0.2,\n",
        "    height_shift_range=0.2,\n",
        "    shear_range=0.2,\n",
        "    zoom_range=0.2,\n",
        "    horizontal_flip=True,\n",
        "    fill_mode='nearest',\n",
        "    validation_split=0.2)\n",
        "train_generator = train_datagen.flow_from_directory(\n",
        "    train_dir,\n",
        "    target_size=(img_height, img_width),\n",
        "    batch_size=batch_size,\n",
        "    class_mode='binary',     subset='training')\n",
        "\n",
        "validation_generator = train_datagen.flow_from_directory(\n",
        "    train_dir,\n",
        "    target_size=(img_height, img_width),\n",
        "    batch_size=batch_size,\n",
        "    class_mode='binary',\n",
        "    subset='validation')\n"
      ]
    },
    {
      "cell_type": "code",
      "execution_count": null,
      "id": "f879b39d",
      "metadata": {
        "execution": {
          "iopub.execute_input": "2024-02-22T18:28:29.730530Z",
          "iopub.status.busy": "2024-02-22T18:28:29.730168Z",
          "iopub.status.idle": "2024-02-22T19:23:00.357923Z",
          "shell.execute_reply": "2024-02-22T19:23:00.356887Z"
        },
        "id": "f879b39d",
        "papermill": {
          "duration": 3271.159864,
          "end_time": "2024-02-22T19:23:00.877680",
          "exception": false,
          "start_time": "2024-02-22T18:28:29.717816",
          "status": "completed"
        },
        "tags": []
      },
      "outputs": [],
      "source": [
        "from tensorflow.keras.models import Sequential\n",
        "from tensorflow.keras.layers import Conv2D, MaxPooling2D, Flatten, Dense, Dropout\n",
        "\n",
        "model = Sequential([\n",
        "    Conv2D(32, (3, 3), activation='relu', input_shape=(img_height, img_width, 3)),\n",
        "    MaxPooling2D(2, 2),\n",
        "    Conv2D(64, (3, 3), activation='relu'),\n",
        "    MaxPooling2D(2, 2),\n",
        "    Conv2D(128, (3, 3), activation='relu'),\n",
        "    MaxPooling2D(2, 2),\n",
        "    Flatten(),\n",
        "    Dense(512, activation='relu'),\n",
        "    Dropout(0.5),\n",
        "    Dense(1, activation='sigmoid') ])\n",
        "\n",
        "model.compile(optimizer='adam',\n",
        "              loss='binary_crossentropy',                metrics=['accuracy'])\n",
        "\n",
        "epochs = 10\n",
        "history = model.fit(\n",
        "    train_generator,\n",
        "    steps_per_epoch=train_generator.samples // batch_size,\n",
        "    epochs=epochs,\n",
        "    validation_data=validation_generator,\n",
        "    validation_steps=validation_generator.samples // batch_size)\n"
      ]
    },
    {
      "cell_type": "code",
      "execution_count": null,
      "id": "06de14f7",
      "metadata": {
        "execution": {
          "iopub.execute_input": "2024-02-22T19:23:01.955179Z",
          "iopub.status.busy": "2024-02-22T19:23:01.954804Z",
          "iopub.status.idle": "2024-02-22T19:27:09.698246Z",
          "shell.execute_reply": "2024-02-22T19:27:09.697209Z"
        },
        "id": "06de14f7",
        "papermill": {
          "duration": 248.278853,
          "end_time": "2024-02-22T19:27:09.700423",
          "exception": false,
          "start_time": "2024-02-22T19:23:01.421570",
          "status": "completed"
        },
        "tags": []
      },
      "outputs": [],
      "source": [
        "eval_result = model.evaluate(train_generator)\n",
        "print(f\"Training Loss: {eval_result[0]}, Training Accuracy: {eval_result[1]}\")\n"
      ]
    },
    {
      "cell_type": "code",
      "execution_count": null,
      "id": "09d2da50",
      "metadata": {
        "execution": {
          "iopub.execute_input": "2024-02-22T19:27:10.937993Z",
          "iopub.status.busy": "2024-02-22T19:27:10.937285Z",
          "iopub.status.idle": "2024-02-22T19:27:11.409304Z",
          "shell.execute_reply": "2024-02-22T19:27:11.408124Z"
        },
        "id": "09d2da50",
        "papermill": {
          "duration": 1.058498,
          "end_time": "2024-02-22T19:27:11.411557",
          "exception": false,
          "start_time": "2024-02-22T19:27:10.353059",
          "status": "completed"
        },
        "tags": []
      },
      "outputs": [],
      "source": [
        "from tensorflow.keras.preprocessing import image\n",
        "import numpy as np\n",
        "\n",
        "def classify_image(image_path, model):\n",
        "    img = image.load_img(image_path, target_size=(img_height, img_width))\n",
        "    img_array = image.img_to_array(img)\n",
        "    img_array = np.expand_dims(img_array, axis=0)     img_array /= 255.0\n",
        "\n",
        "    predictions = model.predict(img_array)\n",
        "    if predictions[0] > 0.5:\n",
        "        print(\"Rotten\")\n",
        "    else:\n",
        "        print(\"Fresh\")\n",
        "\n",
        "# Example usage\n",
        "image_path = '/drive/dataset/Train/rottenapples/rotated_by_15_Screen Shot 2018-06-07 at 2.15.34 PM'  # Change this to the path of your image\n",
        "classify_image(image_path, model)\n"
      ]
    }
  ],
  "metadata": {
    "colab": {
      "provenance": []
    },
    "kaggle": {
      "accelerator": "nvidiaTeslaT4",
      "dataSources": [
        {
          "datasetId": 3371317,
          "sourceId": 5863298,
          "sourceType": "datasetVersion"
        }
      ],
      "dockerImageVersionId": 30648,
      "isGpuEnabled": true,
      "isInternetEnabled": true,
      "language": "python",
      "sourceType": "notebook"
    },
    "kernelspec": {
      "display_name": "Python 3",
      "language": "python",
      "name": "python3"
    },
    "language_info": {
      "codemirror_mode": {
        "name": "ipython",
        "version": 3
      },
      "file_extension": ".py",
      "mimetype": "text/x-python",
      "name": "python",
      "nbconvert_exporter": "python",
      "pygments_lexer": "ipython3",
      "version": "3.13.2"
    },
    "papermill": {
      "default_parameters": {},
      "duration": 3559.329902,
      "end_time": "2024-02-22T19:27:14.435867",
      "environment_variables": {},
      "exception": null,
      "input_path": "__notebook__.ipynb",
      "output_path": "__notebook__.ipynb",
      "parameters": {},
      "start_time": "2024-02-22T18:27:55.105965",
      "version": "2.5.0"
    }
  },
  "nbformat": 4,
  "nbformat_minor": 5
}
